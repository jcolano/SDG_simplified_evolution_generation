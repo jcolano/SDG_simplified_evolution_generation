{
 "cells": [
  {
   "cell_type": "markdown",
   "metadata": {},
   "source": [
    "# Title: Simplified Evolution Generation Using LLMs\n",
    "# Author: Juan Olano\n",
    "# Date: 9/3/2024\n",
    "# License: Permissive\n",
    "\n",
    "\"\"\"\n",
    "## Introduction\n",
    "\n",
    "This script provides a simplified approach to understanding how the RAGAS framework generates and validates question evolutions using a Language Learning Model (LLM) such as GPT-3.5. The code demonstrates the core components of RAGAS's methodology: generating initial questions from a text corpus, evolving these questions into more complex forms, and using a critic function to ensure the evolved questions meet specific criteria. \n",
    "\n",
    "### Purpose\n",
    "\n",
    "The purpose of this script is to simulate the key processes involved in RAGAS's synthetic data generation pipeline, which is used to create diverse and challenging datasets for training and evaluating language models. This simplified version uses Python and GPT-3.5 to replicate the following steps:\n",
    "\n",
    "1. **Document Chunking:** Splits a given document into manageable chunks of text to focus on specific parts of the content.\n",
    "2. **Question Generation:** Uses an LLM to generate simple, factual questions based on each chunk of the document.\n",
    "3. **Applying Evolutions:** Transforms the simple questions into more complex forms (e.g., multi-step reasoning, compressed, or rephrased questions) using the LLM.\n",
    "4. **Critic Validation:** Employs a critic function, also powered by the LLM, to evaluate whether the evolved questions are valid. The critic checks if the evolved questions are sufficiently different from the originals while maintaining the same meaning.\n",
    "\n",
    "### Workflow\n",
    "\n",
    "The workflow of the script is divided into distinct steps:\n",
    "\n",
    "1. **Initialization:** The script initializes an instance of the `EvolutionGenerator` class, which handles communication with the LLM and manages the evolution process.\n",
    "2. **Document Chunking:** The input document is split into smaller text chunks. This mimics the approach of breaking down a large corpus into smaller, manageable pieces that can be processed individually.\n",
    "3. **Simple Question Generation:** For each text chunk, a simple question is generated using the `gpt()` function. This step highlights how initial, straightforward questions are created from raw text.\n",
    "4. **Applying Evolutions:** The script applies three different types of evolutions to each simple question—complexity, compression, and rephrasing. These transformations are designed to increase the difficulty and variety of the questions, similar to how RAGAS would produce varied data points for model training.\n",
    "5. **Critic Evaluation:** After generating the evolved questions, the script uses the critic function to validate each evolution. The critic ensures that the transformations meet the criteria of being sufficiently distinct from the original while preserving the core intent and meaning.\n",
    "6. **Validation Output:** The script provides detailed feedback on the validity of each evolved question, helping users understand the decision-making process of the critic.\n",
    "\n",
    "### Conclusion\n",
    "\n",
    "This script provides a hands-on, simplified example of RAGAS's approach to generating synthetic data through question evolutions and validation. By understanding these key concepts, users can appreciate the importance of diverse and high-quality training data in building robust and capable language models.\n",
    "\n",
    "Note: This script requires an active OpenAI client with access to GPT\n"
   ]
  },
  {
   "cell_type": "code",
   "execution_count": 20,
   "metadata": {},
   "outputs": [],
   "source": [
    "import random"
   ]
  },
  {
   "cell_type": "code",
   "execution_count": 21,
   "metadata": {},
   "outputs": [],
   "source": [
    "import os\n",
    "import openai\n",
    "from openai import OpenAI\n",
    "\n",
    "with open('../../../apikeys/api_openai_aimakerspace.key', 'r') as file:\n",
    "    api_key = file.read().strip()"
   ]
  },
  {
   "cell_type": "code",
   "execution_count": 22,
   "metadata": {},
   "outputs": [],
   "source": [
    "# Define the class with the gpt() function\n",
    "class EvolutionGenerator:\n",
    "    def __init__(self):\n",
    "        self.openai_client = OpenAI(api_key=api_key)\n",
    "    \n",
    "    def gpt(self, prompt):\n",
    "        try:\n",
    "            response = self.openai_client.chat.completions.create(\n",
    "                messages=[{\"role\": \"system\", \"content\": \"\"}, {\"role\": \"user\", \"content\": prompt}],\n",
    "                temperature=0,\n",
    "                top_p=1,\n",
    "                frequency_penalty=0,\n",
    "                presence_penalty=0,\n",
    "                stop=None,\n",
    "                model=\"gpt-4o\",\n",
    "            )     \n",
    "            result = response.choices[0].message.content \n",
    "            return result\n",
    "        except Exception as e:\n",
    "            print(f\"An error occurred on GPT: {e}\")\n",
    "            return None\n",
    "\n",
    "    # Step 1: Document Chunking\n",
    "    def chunk_document(self, doc, chunk_size=100):\n",
    "        \"\"\"Splits the document into smaller chunks of text.\"\"\"\n",
    "        words = doc.split()\n",
    "        chunks = [' '.join(words[i:i + chunk_size]) for i in range(0, len(words), chunk_size)]\n",
    "        return chunks\n",
    "\n",
    "    # Step 2: Generating Simple Questions using GPT\n",
    "    def generate_simple_questions(self, chunks):\n",
    "        \"\"\"Generates simple questions for each chunk using GPT.\"\"\"\n",
    "        questions = []\n",
    "        for chunk in chunks:\n",
    "            prompt = f\"Generate a simple factual question based on the following text:\\n\\n{chunk}\"\n",
    "            question = self.gpt(prompt)\n",
    "            if question:\n",
    "                questions.append(question.strip())\n",
    "        return questions\n",
    "\n",
    "    # Step 3: Applying Evolutions using GPT\n",
    "    def apply_evolutions(self, question):\n",
    "        \"\"\"Generates evolved versions of a question using GPT.\"\"\"\n",
    "        evolutions = []\n",
    "\n",
    "        # Evolution 1: Complexity Evolution\n",
    "        complexity_prompt = f\"Transform the following simple question into a more complex reasoning question that requires multi-step logic or inference:\\n\\n{question}\"\n",
    "        complex_question = self.gpt(complexity_prompt)\n",
    "        if complex_question:\n",
    "            evolutions.append(complex_question.strip())\n",
    "\n",
    "        # Evolution 2: Compression Evolution\n",
    "        compression_prompt = f\"Rewrite the following question to be more concise, while retaining the original meaning:\\n\\n{question}\"\n",
    "        compressed_question = self.gpt(compression_prompt)\n",
    "        if compressed_question:\n",
    "            evolutions.append(compressed_question.strip())\n",
    "\n",
    "        # Evolution 3: Rephrasing Evolution\n",
    "        rephrasing_prompt = f\"Rephrase the following question in a different way to ask the same information:\\n\\n{question}\"\n",
    "        rephrased_question = self.gpt(rephrasing_prompt)\n",
    "        if rephrased_question:\n",
    "            evolutions.append(rephrased_question.strip())\n",
    "\n",
    "        return evolutions\n",
    "    \n",
    "    # Step 4: Critic function to validate evolved questions\n",
    "    def critic(self, original_question, evolved_question):\n",
    "        \"\"\"Uses GPT to evaluate if the evolved question is valid.\"\"\"\n",
    "        critic_prompt = f\"\"\"\n",
    "        Evaluate the following evolved question to determine if it is sufficiently different from the original question while conveying the same meaning.\n",
    "        Original Question: \"{original_question}\"\n",
    "        Evolved Question: \"{evolved_question}\"\n",
    "\n",
    "        Answer \"VALID\" if the evolved question meets both criteria. Answer \"INVALID\" if it fails either criterion.\n",
    "        \"\"\"\n",
    "        result = self.gpt(critic_prompt)\n",
    "        return result.strip().upper() == \"VALID\"\n",
    "\n",
    "    # Main function to generate evolved questions\n",
    "    def generate_evolved_questions(self, questions):\n",
    "        \"\"\"Generates a set of evolved questions from simple ones.\"\"\"\n",
    "        all_evolved_questions = []\n",
    "        for question in questions:\n",
    "            evolved_questions = self.apply_evolutions(question)\n",
    "            all_evolved_questions.append((question, evolved_questions))  # Store original and evolved pairs\n",
    "        return all_evolved_questions\n",
    "\n",
    "    # New function to validate evolved questions\n",
    "    def validate_evolved_questions(self, evolved_questions):\n",
    "        \"\"\"Validates evolved questions using the critic function.\"\"\"\n",
    "        valid_evolved_questions = []\n",
    "        for original_question, evolutions in evolved_questions:\n",
    "            print(f\"\\nOriginal Question: {original_question}\")\n",
    "            for evolved_question in evolutions:\n",
    "                is_valid = self.critic(original_question, evolved_question)\n",
    "                print(f\"  Evolved Question: {evolved_question}\")\n",
    "                print(f\"    -> Validity: {'VALID' if is_valid else 'INVALID'}\")\n",
    "                if is_valid:\n",
    "                    valid_evolved_questions.append(evolved_question)\n",
    "        return valid_evolved_questions"
   ]
  },
  {
   "cell_type": "code",
   "execution_count": 23,
   "metadata": {},
   "outputs": [],
   "source": [
    "generator = EvolutionGenerator()"
   ]
  },
  {
   "cell_type": "code",
   "execution_count": 24,
   "metadata": {},
   "outputs": [],
   "source": [
    "# Sample document as a string\n",
    "document = \"\"\"\n",
    "Forward-Looking Statements\n",
    "This Quarterly Report on Form 10-Q contains forward-looking statements based on management’s beliefs and assumptions and on information currently\n",
    "available to management. In some cases, you can identify forward-looking statements by terms such as “may,” “will,” “should,” “could,” “goal,” “would,” “expect,”\n",
    "“plan,” “anticipate,” “believe,” “estimate,” “project,” “predict,” “potential” and similar expressions intended to identify forward-looking statements. These\n",
    "statements involve known and unknown risks, uncertainties and other factors, which may cause our actual results, performance, time frames or achievements to\n",
    "be materially different from any future results, performance, time frames or achievements expressed or implied by the forward-looking statements. We discuss\n",
    "many of these risks, uncertainties and other factors in this Quarterly Report on Form 10-Q and our Annual Report on Form 10-K for the fiscal year ended\n",
    "January 28, 2024 in greater detail under the heading “Risk Factors” of such reports. Given these risks, uncertainties, and other factors, you should not place\n",
    "undue reliance on these forward-looking statements. Also, these forward-looking statements represent our estimates and assumptions only as of the date of this\n",
    "filing. You should read this Quarterly Report on Form 10-Q completely and understand that our actual future results may be materially different from what we\n",
    "expect. We hereby qualify our forward-looking statements by these cautionary statements. Except as required by law, we assume no obligation to update these\n",
    "forward-looking statements publicly, or to update the reasons actual results could differ materially from those anticipated in these forward-looking statements,\n",
    "even if new information becomes available in the future.\n",
    "\"\"\""
   ]
  },
  {
   "cell_type": "code",
   "execution_count": 25,
   "metadata": {},
   "outputs": [
    {
     "name": "stdout",
     "output_type": "stream",
     "text": [
      "Document Chunks: ['Forward-Looking Statements This Quarterly Report on Form 10-Q contains forward-looking statements based on management’s beliefs and assumptions and on information currently available to management. In some cases, you can identify forward-looking statements by terms such as “may,” “will,” “should,” “could,” “goal,” “would,” “expect,” “plan,” “anticipate,” “believe,” “estimate,” “project,” “predict,” “potential” and similar expressions intended to identify forward-looking statements. These statements involve known and unknown risks, uncertainties and other factors, which may cause our actual results, performance, time frames or achievements to be materially different from any future results, performance, time frames or achievements expressed or implied by the forward-looking statements.', 'We discuss many of these risks, uncertainties and other factors in this Quarterly Report on Form 10-Q and our Annual Report on Form 10-K for the fiscal year ended January 28, 2024 in greater detail under the heading “Risk Factors” of such reports. Given these risks, uncertainties, and other factors, you should not place undue reliance on these forward-looking statements. Also, these forward-looking statements represent our estimates and assumptions only as of the date of this filing. You should read this Quarterly Report on Form 10-Q completely and understand that our actual future results may be materially different from what', 'we expect. We hereby qualify our forward-looking statements by these cautionary statements. Except as required by law, we assume no obligation to update these forward-looking statements publicly, or to update the reasons actual results could differ materially from those anticipated in these forward-looking statements, even if new information becomes available in the future.']\n"
     ]
    }
   ],
   "source": [
    "# Step 1: Chunk the document\n",
    "chunks = generator.chunk_document(document)\n",
    "print(\"Document Chunks:\", chunks)"
   ]
  },
  {
   "cell_type": "code",
   "execution_count": 26,
   "metadata": {},
   "outputs": [
    {
     "name": "stdout",
     "output_type": "stream",
     "text": [
      "\n",
      "Simple Questions: ['What terms are used to identify forward-looking statements in the Quarterly Report on Form 10-Q?', 'On what date did the fiscal year end for the Annual Report on Form 10-K mentioned in the text?', 'What is the company not obligated to do publicly, except as required by law?']\n"
     ]
    }
   ],
   "source": [
    "# Step 2: Generate simple questions from chunks\n",
    "simple_questions = generator.generate_simple_questions(chunks)\n",
    "print(\"\\nSimple Questions:\", simple_questions)"
   ]
  },
  {
   "cell_type": "code",
   "execution_count": 27,
   "metadata": {},
   "outputs": [
    {
     "name": "stdout",
     "output_type": "stream",
     "text": [
      "\n",
      "Evolved Questions:\n",
      "\n",
      "Original Question: What terms are used to identify forward-looking statements in the Quarterly Report on Form 10-Q?\n",
      "  - Evolved: In the context of analyzing a company's Quarterly Report on Form 10-Q, how would you identify and interpret the specific language and terms that indicate forward-looking statements, and what implications might these statements have for the company's future performance and investor decision-making?\n",
      "  - Evolved: What terms identify forward-looking statements in the Quarterly Report on Form 10-Q?\n",
      "  - Evolved: Which phrases or terminology are employed to denote forward-looking statements in the Quarterly Report on Form 10-Q?\n",
      "\n",
      "Original Question: On what date did the fiscal year end for the Annual Report on Form 10-K mentioned in the text?\n",
      "  - Evolved: Given that the Annual Report on Form 10-K typically covers a company's financial performance over a fiscal year, and considering that fiscal years can vary between companies, analyze the provided financial data and historical filing patterns to determine the most likely end date of the fiscal year for the Annual Report on Form 10-K mentioned in the text. Additionally, consider any relevant industry standards or regulatory requirements that might influence the fiscal year-end date.\n",
      "  - Evolved: When did the fiscal year end for the Form 10-K Annual Report?\n",
      "  - Evolved: What was the fiscal year-end date for the Annual Report on Form 10-K referenced in the text?\n",
      "\n",
      "Original Question: What is the company not obligated to do publicly, except as required by law?\n",
      "  - Evolved: Considering the various obligations a company might have, including ethical, legal, and fiduciary responsibilities, analyze and determine what specific actions or disclosures the company is not required to make publicly unless mandated by legal statutes. Discuss the potential implications of these non-obligations on stakeholders, and infer how the company's discretion in these areas might impact its public perception and operational transparency.\n",
      "  - Evolved: What is the company not required to do publicly, except by law?\n",
      "  - Evolved: What actions is the company not required to take publicly, unless mandated by law?\n"
     ]
    }
   ],
   "source": [
    "# Step 3: Apply evolutions to generate complex questions\n",
    "evolved_questions = generator.generate_evolved_questions(simple_questions)\n",
    "print(\"\\nEvolved Questions:\")\n",
    "for original, evolved in evolved_questions:\n",
    "    print(f\"\\nOriginal Question: {original}\")\n",
    "    for eq in evolved:\n",
    "        print(f\"  - Evolved: {eq}\")"
   ]
  },
  {
   "cell_type": "code",
   "execution_count": 28,
   "metadata": {},
   "outputs": [
    {
     "name": "stdout",
     "output_type": "stream",
     "text": [
      "\n",
      "Validating Evolved Questions:\n",
      "\n",
      "Original Question: What terms are used to identify forward-looking statements in the Quarterly Report on Form 10-Q?\n",
      "  Evolved Question: In the context of analyzing a company's Quarterly Report on Form 10-Q, how would you identify and interpret the specific language and terms that indicate forward-looking statements, and what implications might these statements have for the company's future performance and investor decision-making?\n",
      "    -> Validity: INVALID\n",
      "  Evolved Question: What terms identify forward-looking statements in the Quarterly Report on Form 10-Q?\n",
      "    -> Validity: VALID\n",
      "  Evolved Question: Which phrases or terminology are employed to denote forward-looking statements in the Quarterly Report on Form 10-Q?\n",
      "    -> Validity: VALID\n",
      "\n",
      "Original Question: On what date did the fiscal year end for the Annual Report on Form 10-K mentioned in the text?\n",
      "  Evolved Question: Given that the Annual Report on Form 10-K typically covers a company's financial performance over a fiscal year, and considering that fiscal years can vary between companies, analyze the provided financial data and historical filing patterns to determine the most likely end date of the fiscal year for the Annual Report on Form 10-K mentioned in the text. Additionally, consider any relevant industry standards or regulatory requirements that might influence the fiscal year-end date.\n",
      "    -> Validity: INVALID\n",
      "  Evolved Question: When did the fiscal year end for the Form 10-K Annual Report?\n",
      "    -> Validity: VALID\n",
      "  Evolved Question: What was the fiscal year-end date for the Annual Report on Form 10-K referenced in the text?\n",
      "    -> Validity: VALID\n",
      "\n",
      "Original Question: What is the company not obligated to do publicly, except as required by law?\n",
      "  Evolved Question: Considering the various obligations a company might have, including ethical, legal, and fiduciary responsibilities, analyze and determine what specific actions or disclosures the company is not required to make publicly unless mandated by legal statutes. Discuss the potential implications of these non-obligations on stakeholders, and infer how the company's discretion in these areas might impact its public perception and operational transparency.\n",
      "    -> Validity: INVALID\n",
      "  Evolved Question: What is the company not required to do publicly, except by law?\n",
      "    -> Validity: VALID\n",
      "  Evolved Question: What actions is the company not required to take publicly, unless mandated by law?\n",
      "    -> Validity: VALID\n",
      "\n",
      "Valid Evolved Questions:\n",
      "- What terms identify forward-looking statements in the Quarterly Report on Form 10-Q?\n",
      "- Which phrases or terminology are employed to denote forward-looking statements in the Quarterly Report on Form 10-Q?\n",
      "- When did the fiscal year end for the Form 10-K Annual Report?\n",
      "- What was the fiscal year-end date for the Annual Report on Form 10-K referenced in the text?\n",
      "- What is the company not required to do publicly, except by law?\n",
      "- What actions is the company not required to take publicly, unless mandated by law?\n"
     ]
    }
   ],
   "source": [
    "# Step 4: Validate evolved questions using the critic function\n",
    "print(\"\\nValidating Evolved Questions:\")\n",
    "valid_evolved_questions = generator.validate_evolved_questions(evolved_questions)\n",
    "\n",
    "print(\"\\nValid Evolved Questions:\")\n",
    "for valid_question in valid_evolved_questions:\n",
    "    print(\"-\", valid_question)"
   ]
  },
  {
   "cell_type": "code",
   "execution_count": null,
   "metadata": {},
   "outputs": [],
   "source": []
  }
 ],
 "metadata": {
  "kernelspec": {
   "display_name": "Python 3",
   "language": "python",
   "name": "python3"
  },
  "language_info": {
   "codemirror_mode": {
    "name": "ipython",
    "version": 3
   },
   "file_extension": ".py",
   "mimetype": "text/x-python",
   "name": "python",
   "nbconvert_exporter": "python",
   "pygments_lexer": "ipython3",
   "version": "3.12.4"
  }
 },
 "nbformat": 4,
 "nbformat_minor": 2
}
